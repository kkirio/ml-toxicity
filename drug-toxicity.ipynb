{
  "cells": [
    {
      "cell_type": "markdown",
      "metadata": {
        "id": "hjjmir6d9dPs"
      },
      "source": [
        "# Project 3\n",
        "The prediction of molecular properties is an important task in drug discovery. The molecules' atomic composition and arrangement can be very informative of their biological behavior. Each 2D molecule can be represented as a graph, where the nodes are atoms connected by edges corresponding to chemical bonds. The prediction of molecular properties can be formulized as a graph classification task.\n",
        "\n",
        "In this project, we train a graph neural network to perform binary classifications on 12 molecular properties."
      ]
    },
    {
      "cell_type": "markdown",
      "metadata": {
        "id": "3BHE1tWd9o-M"
      },
      "source": [
        "# Install packages"
      ]
    },
    {
      "cell_type": "code",
      "execution_count": null,
      "metadata": {
        "colab": {
          "base_uri": "https://localhost:8080/"
        },
        "id": "SFrjSifd9c-e",
        "outputId": "ac248ce1-9d2c-4fd2-c152-fc7402038aca"
      },
      "outputs": [
        {
          "name": "stdout",
          "output_type": "stream",
          "text": [
            "\u001b[2K     \u001b[90m━━━━━━━━━━━━━━━━━━━━━━━━━━━━━━━━━━━━━━━━\u001b[0m \u001b[32m1.0/1.0 MB\u001b[0m \u001b[31m5.2 MB/s\u001b[0m eta \u001b[36m0:00:00\u001b[0m\n",
            "\u001b[2K     \u001b[90m━━━━━━━━━━━━━━━━━━━━━━━━━━━━━━━━━━━━━━━━\u001b[0m \u001b[32m29.4/29.4 MB\u001b[0m \u001b[31m50.4 MB/s\u001b[0m eta \u001b[36m0:00:00\u001b[0m\n",
            "\u001b[?25h"
          ]
        }
      ],
      "source": [
        "!pip install torch_geometric --quiet\n",
        "!pip install rdkit-pypi --quiet"
      ]
    },
    {
      "cell_type": "markdown",
      "metadata": {
        "id": "5ple7S149uBU"
      },
      "source": [
        "# Load Dataset"
      ]
    },
    {
      "cell_type": "code",
      "execution_count": null,
      "metadata": {
        "id": "fCQqeZCF9zjz"
      },
      "outputs": [],
      "source": [
        "import torch\n",
        "import torch_geometric\n",
        "import numpy as np\n",
        "import pandas as pd\n",
        "from torch_geometric.data import Data\n",
        "from torch_geometric.data import DataLoader\n",
        "from torch_geometric.datasets import MoleculeNet"
      ]
    },
    {
      "cell_type": "code",
      "execution_count": null,
      "metadata": {
        "colab": {
          "base_uri": "https://localhost:8080/"
        },
        "id": "F9lRxjLV91p-",
        "outputId": "a63a1e6a-6d92-4fb5-fbf9-dae6c020f94a"
      },
      "outputs": [
        {
          "name": "stdout",
          "output_type": "stream",
          "text": [
            "Size of training set: 6264\n",
            "Size of validation set: 783\n",
            "Size of test set: 784\n"
          ]
        }
      ],
      "source": [
        "train_dataset = torch.load(\"Data/train_data.pt\")\n",
        "valid_dataset = torch.load(\"Data/valid_data.pt\")\n",
        "test_dataset = torch.load(\"Data/test_data.pt\")\n",
        "\n",
        "print(f'Size of training set: {len(train_dataset)}')\n",
        "print(f'Size of validation set: {len(valid_dataset)}')\n",
        "print(f'Size of test set: {len(test_dataset)}')"
      ]
    },
    {
      "cell_type": "markdown",
      "metadata": {
        "id": "pDvnZj9uhBrA"
      },
      "source": [
        "## Extract Fingerprint"
      ]
    },
    {
      "cell_type": "code",
      "execution_count": null,
      "metadata": {
        "colab": {
          "base_uri": "https://localhost:8080/"
        },
        "id": "wseXwbAthR1w",
        "outputId": "1507c6f6-bd80-4a3e-8ed4-9b1b6d3b38cc"
      },
      "outputs": [
        {
          "name": "stderr",
          "output_type": "stream",
          "text": [
            "[18:45:26] WARNING: not removing hydrogen atom without neighbors\n"
          ]
        }
      ],
      "source": [
        "from rdkit import Chem\n",
        "from rdkit.Chem import AllChem\n",
        "\n",
        "FINGERPRINT_SIZE = 2048\n",
        "\n",
        "def generate_morgan_fingerprint(molecule, radius=2, n_bits=FINGERPRINT_SIZE):\n",
        "    mol = Chem.MolFromSmiles(molecule)\n",
        "    fp = AllChem.GetMorganFingerprintAsBitVect(mol, radius, nBits=n_bits)\n",
        "    return torch.tensor(list(fp), dtype=torch.float32)\n",
        "\n",
        "for data in train_dataset:\n",
        "  data.fingerprint = generate_morgan_fingerprint(data.smiles)\n",
        "for data in valid_dataset:\n",
        "  data.fingerprint = generate_morgan_fingerprint(data.smiles)\n",
        "for data in test_dataset:\n",
        "  data.fingerprint = generate_morgan_fingerprint(data.smiles)"
      ]
    },
    {
      "cell_type": "markdown",
      "metadata": {
        "id": "38ozj_7sp4YK"
      },
      "source": [
        "## Class Weights"
      ]
    },
    {
      "cell_type": "code",
      "execution_count": null,
      "metadata": {
        "id": "PHq9KHuGp32E"
      },
      "outputs": [],
      "source": [
        "y = [g.y for g in train_dataset]\n",
        "y = [np.array(x[0]) for x in y]\n",
        "y = pd.DataFrame(y, columns = np.arange(1, 13))\n",
        "\n",
        "class_sizes = []\n",
        "for i in range(1, 13):\n",
        "  class_sizes.append(y[i].dropna().size)\n",
        "\n",
        "class_weights = y.sum()/(class_sizes - y.sum())\n",
        "class_weights = np.array(1/class_weights)"
      ]
    },
    {
      "cell_type": "markdown",
      "metadata": {
        "id": "gels4TSXsHk6"
      },
      "source": [
        "## Batching"
      ]
    },
    {
      "cell_type": "code",
      "execution_count": null,
      "metadata": {
        "id": "-6SgWtBf96fg"
      },
      "outputs": [],
      "source": [
        "from torch_geometric.loader import DataLoader\n",
        "\n",
        "batch_size=64\n",
        "train_loader = DataLoader(train_dataset, batch_size=batch_size, shuffle=True)\n",
        "val_loader = DataLoader(valid_dataset, batch_size=batch_size, shuffle=False)\n",
        "test_loader = DataLoader(test_dataset, batch_size=batch_size, shuffle=False)"
      ]
    },
    {
      "cell_type": "markdown",
      "metadata": {
        "id": "4nYcCw11-KkF"
      },
      "source": [
        "# Build Model"
      ]
    },
    {
      "cell_type": "code",
      "execution_count": null,
      "metadata": {
        "id": "48vpF2Fl3UEG"
      },
      "outputs": [],
      "source": [
        "import torch.nn as nn\n",
        "from torch_geometric.nn.conv import GATConv\n",
        "from torch_geometric.nn import global_mean_pool as gap\n",
        "import torch.nn.functional as F\n",
        "from torch.nn import Linear\n",
        "\n",
        "class AtomEncoder(torch.nn.Module):\n",
        "    def __init__(self, hidden_channels, num_node_features, embedding_size):\n",
        "        super(AtomEncoder, self).__init__()\n",
        "        self.embeddings = torch.nn.ModuleList()\n",
        "\n",
        "        for i in range(num_node_features):\n",
        "            self.embeddings.append(torch.nn.Embedding(embedding_size, hidden_channels))\n",
        "\n",
        "    def reset_parameters(self):\n",
        "        for embedding in self.embeddings:\n",
        "            embedding.reset_parameters()\n",
        "\n",
        "    def forward(self, x):\n",
        "        if x.dim() == 1:\n",
        "            x = x.unsqueeze(1)\n",
        "\n",
        "        out = 0\n",
        "        for i in range(x.size(1)):\n",
        "            out += self.embeddings[i](x[:, i])\n",
        "        return out\n",
        "\n",
        "\n",
        "class GAT(torch.nn.Module):\n",
        "    def __init__(self, hidden_channels, num_node_features, num_classes, heads=1,\n",
        "                 dropout=0.3,internal_dropout = (0.2,0.2,0.2), embedding_size=100):\n",
        "        super(GAT, self).__init__()\n",
        "        torch.manual_seed(42)\n",
        "\n",
        "        self.emb = AtomEncoder(hidden_channels, num_node_features, embedding_size)\n",
        "\n",
        "        self.conv1 = GATConv(hidden_channels, hidden_channels, heads=heads, dropout=internal_dropout[0])\n",
        "        self.conv2 = GATConv(hidden_channels * heads, hidden_channels, heads=heads, dropout=internal_dropout[1])\n",
        "        self.conv3 = GATConv(hidden_channels * heads, hidden_channels, heads=heads, dropout=internal_dropout[2])\n",
        "\n",
        "        self.dropout = dropout\n",
        "\n",
        "        self.lin1 = Linear(hidden_channels*heads + FINGERPRINT_SIZE, 64)\n",
        "        self.lin2 = Linear(64, num_classes)\n",
        "\n",
        "    def forward(self, batch):\n",
        "        x, edge_index, batch_size, fingerprint = batch.x, batch.edge_index, batch.batch, batch.fingerprint\n",
        "\n",
        "        # 1. Obtain node embeddings\n",
        "        x = self.emb(x)\n",
        "\n",
        "        # 2. Apply GAT layers\n",
        "        x = F.relu(self.conv1(x, edge_index))\n",
        "        x = F.relu(self.conv2(x, edge_index) + x)\n",
        "        x = F.relu(self.conv3(x, edge_index) + x)\n",
        "\n",
        "        # 3. Readout layer\n",
        "        x = gap(x, batch_size)\n",
        "        fingerprint = fingerprint.view(-1, FINGERPRINT_SIZE)\n",
        "        x = torch.cat([x, fingerprint], dim=1)\n",
        "\n",
        "        # 4. Apply a final classifier\n",
        "        x = F.dropout(x, p=self.dropout, training=self.training)\n",
        "        x = self.lin1(x)\n",
        "        x = self.lin2(x)\n",
        "\n",
        "        return x"
      ]
    },
    {
      "cell_type": "markdown",
      "metadata": {
        "id": "QtgFf7gsh9rv"
      },
      "source": [
        "### Create Model"
      ]
    },
    {
      "cell_type": "code",
      "execution_count": null,
      "metadata": {
        "id": "eCv16UdF-Oad"
      },
      "outputs": [],
      "source": [
        "model = GAT(128, 9, 12, heads=6)\n",
        "\n",
        "# out = model(batch)\n",
        "# print(out.shape)    # (num_of_graph, num_of_task)"
      ]
    },
    {
      "cell_type": "markdown",
      "metadata": {
        "id": "mv4Z779p-TNV"
      },
      "source": [
        "# Train Model"
      ]
    },
    {
      "cell_type": "markdown",
      "metadata": {
        "id": "fnXVj9bwEKTx"
      },
      "source": [
        "## Optimizer & Loss Function"
      ]
    },
    {
      "cell_type": "code",
      "execution_count": null,
      "metadata": {
        "id": "OV8Ftkei-UdV"
      },
      "outputs": [],
      "source": [
        "import torch.optim as optim\n",
        "\n",
        "optimizer = optim.Adam(model.parameters(), lr=0.0001)\n",
        "\n",
        "# Overweighting to equalize negative/positive classes\n",
        "criterion = [0]*len(class_weights)\n",
        "for i in range(len(class_weights)):\n",
        "  criterion[i] = nn.BCEWithLogitsLoss(pos_weight=torch.tensor(class_weights[i]))"
      ]
    },
    {
      "cell_type": "markdown",
      "metadata": {
        "id": "IgD0JF55FVsr"
      },
      "source": [
        "## Training & Evaluation"
      ]
    },
    {
      "cell_type": "code",
      "execution_count": null,
      "metadata": {
        "id": "wFOjXbmY-g_w"
      },
      "outputs": [],
      "source": [
        "from sklearn.metrics import roc_auc_score\n",
        "\n",
        "def train(model, device, loader, optimizer):\n",
        "    model.train()\n",
        "\n",
        "    for step, batch in enumerate(loader):\n",
        "        batch = batch.to(device)\n",
        "        pred = model(batch)\n",
        "\n",
        "        pred = torch.swapaxes(pred.squeeze(), 0, 1)\n",
        "        labels = torch.swapaxes(batch.y, 0, 1)\n",
        "\n",
        "        optimizer.zero_grad()\n",
        "        loss = 0\n",
        "        for i in range(len(criterion)):\n",
        "          is_labeled = labels[i] == labels[i]\n",
        "          loss += criterion[i](pred[i].to(torch.float32)[is_labeled], labels[i].to(torch.float32)[is_labeled])\n",
        "\n",
        "        loss.backward()\n",
        "        torch.nn.utils.clip_grad_norm_(model.parameters(), max_norm=1.0)\n",
        "        optimizer.step()\n",
        "\n",
        "\n",
        "def eval(model, device, loader):\n",
        "    model.eval()\n",
        "    y_true = []\n",
        "    y_pred = []\n",
        "\n",
        "    # For every batch in test loader\n",
        "    for batch in loader:\n",
        "\n",
        "        batch = batch.to(device)\n",
        "        if batch.x.shape[0] == 1:\n",
        "            pass\n",
        "        else:\n",
        "            with torch.no_grad():\n",
        "                pred = model(batch)\n",
        "\n",
        "            y_true.append(batch.y.view(pred.shape))\n",
        "            y_pred.append(pred)\n",
        "\n",
        "    y_true = torch.cat(y_true, dim = 0).numpy()\n",
        "    y_pred = torch.cat(y_pred, dim = 0).numpy()\n",
        "\n",
        "    # Compute the ROC - AUC score and store as history\n",
        "    rocauc_list = []\n",
        "\n",
        "    for i in range(y_true.shape[1]):\n",
        "        #AUC is only defined when there is at least one positive data\n",
        "        if np.sum(y_true[:,i] == 1) > 0 and np.sum(y_true[:,i] == 0) > 0:\n",
        "            # ignore nan values\n",
        "            is_labeled = y_true[:,i] == y_true[:,i]\n",
        "            rocauc_list.append(roc_auc_score(y_true[is_labeled,i], y_pred[is_labeled,i]))\n",
        "\n",
        "    if len(rocauc_list) == 0:\n",
        "        raise RuntimeError('No positively labeled data available. Cannot compute ROC-AUC.')\n",
        "\n",
        "    return {'rocauc': sum(rocauc_list)/len(rocauc_list)}"
      ]
    },
    {
      "cell_type": "markdown",
      "metadata": {
        "id": "jt-7iXhdEe0U"
      },
      "source": [
        "## Early stopper\n",
        "\n",
        "Stops training before overtraining"
      ]
    },
    {
      "cell_type": "code",
      "execution_count": null,
      "metadata": {
        "id": "kz25UIxmEePj"
      },
      "outputs": [],
      "source": [
        "class Early_Stopper():\n",
        "  def __init__(self, limit):\n",
        "    self.limit = limit\n",
        "    self.best_rocauc = 0\n",
        "    self.epochs_elapsed = 0\n",
        "    self.best_model = None\n",
        "\n",
        "  def early_stop(self, rocauc):\n",
        "    if (rocauc > self.best_rocauc):\n",
        "      self.best_rocauc = rocauc\n",
        "      self.epochs_elapsed = 0\n",
        "      self.best_model = model\n",
        "    else:\n",
        "      self.epochs_elapsed += 1\n",
        "      if (self.epochs_elapsed > self.limit):\n",
        "        return True\n",
        "    return False\n",
        "\n",
        "  def reset(self):\n",
        "    self.best_rocauc = 0\n",
        "    self.epochs_elapsed = 0\n",
        "    self.best_model = None\n",
        "\n",
        "stopper = Early_Stopper(10)"
      ]
    },
    {
      "cell_type": "markdown",
      "metadata": {
        "id": "JH-m2VLMEsAj"
      },
      "source": [
        "## Training"
      ]
    },
    {
      "cell_type": "code",
      "execution_count": null,
      "metadata": {
        "colab": {
          "base_uri": "https://localhost:8080/"
        },
        "id": "AtXPW8gb-kKx",
        "outputId": "da31908f-bc18-4ab8-bad7-819cdb91cd43"
      },
      "outputs": [
        {
          "name": "stdout",
          "output_type": "stream",
          "text": [
            "Start training...\n",
            "EPOCH 1\n",
            "{'Train': {'rocauc': 0.7266763357653723}, 'Validation': {'rocauc': 0.6821848245000258}}\n",
            "EPOCH 2\n",
            "{'Train': {'rocauc': 0.7685021850515713}, 'Validation': {'rocauc': 0.7183319971601877}}\n",
            "EPOCH 3\n",
            "{'Train': {'rocauc': 0.7944080645058403}, 'Validation': {'rocauc': 0.7424171704162615}}\n",
            "EPOCH 4\n",
            "{'Train': {'rocauc': 0.8060125342305234}, 'Validation': {'rocauc': 0.754206713865953}}\n",
            "EPOCH 5\n",
            "{'Train': {'rocauc': 0.8255608809126967}, 'Validation': {'rocauc': 0.7697105384760051}}\n",
            "EPOCH 6\n",
            "{'Train': {'rocauc': 0.8409808773972589}, 'Validation': {'rocauc': 0.7753482363563561}}\n",
            "EPOCH 7\n",
            "{'Train': {'rocauc': 0.8497483914690029}, 'Validation': {'rocauc': 0.7786315377852727}}\n",
            "EPOCH 8\n",
            "{'Train': {'rocauc': 0.8560536230975179}, 'Validation': {'rocauc': 0.784351422074511}}\n",
            "EPOCH 9\n",
            "{'Train': {'rocauc': 0.8583200829977943}, 'Validation': {'rocauc': 0.779551002445463}}\n",
            "EPOCH 10\n",
            "{'Train': {'rocauc': 0.8675359579580909}, 'Validation': {'rocauc': 0.7836950008484348}}\n",
            "EPOCH 11\n",
            "{'Train': {'rocauc': 0.8757340744167855}, 'Validation': {'rocauc': 0.7889989084149205}}\n",
            "EPOCH 12\n",
            "{'Train': {'rocauc': 0.8828194602726221}, 'Validation': {'rocauc': 0.7891906876876259}}\n",
            "EPOCH 13\n",
            "{'Train': {'rocauc': 0.8777257933656109}, 'Validation': {'rocauc': 0.7867392601301471}}\n",
            "EPOCH 14\n",
            "{'Train': {'rocauc': 0.88991369837458}, 'Validation': {'rocauc': 0.7872842837267832}}\n",
            "EPOCH 15\n",
            "{'Train': {'rocauc': 0.8964407675883409}, 'Validation': {'rocauc': 0.7888574077473288}}\n",
            "EPOCH 16\n",
            "{'Train': {'rocauc': 0.8996794118027518}, 'Validation': {'rocauc': 0.7916926409582379}}\n",
            "EPOCH 17\n",
            "{'Train': {'rocauc': 0.9053665802778745}, 'Validation': {'rocauc': 0.7940993911408767}}\n",
            "EPOCH 18\n",
            "{'Train': {'rocauc': 0.9069562237914782}, 'Validation': {'rocauc': 0.7984108809601774}}\n",
            "EPOCH 19\n",
            "{'Train': {'rocauc': 0.9094242097584261}, 'Validation': {'rocauc': 0.8000803953892253}}\n",
            "EPOCH 20\n",
            "{'Train': {'rocauc': 0.912606179946709}, 'Validation': {'rocauc': 0.7998960877275083}}\n",
            "EPOCH 21\n",
            "{'Train': {'rocauc': 0.9147906090384655}, 'Validation': {'rocauc': 0.7971119677599331}}\n",
            "EPOCH 22\n",
            "{'Train': {'rocauc': 0.9171667417198773}, 'Validation': {'rocauc': 0.8019512953749185}}\n",
            "EPOCH 23\n",
            "{'Train': {'rocauc': 0.9141005605676497}, 'Validation': {'rocauc': 0.7958580483913141}}\n",
            "EPOCH 24\n",
            "{'Train': {'rocauc': 0.9217617736102518}, 'Validation': {'rocauc': 0.7985434087571764}}\n",
            "EPOCH 25\n",
            "{'Train': {'rocauc': 0.9250674593311135}, 'Validation': {'rocauc': 0.8015031457847789}}\n",
            "EPOCH 26\n",
            "{'Train': {'rocauc': 0.9234069135344852}, 'Validation': {'rocauc': 0.8014384012049581}}\n",
            "EPOCH 27\n",
            "{'Train': {'rocauc': 0.9266844757368066}, 'Validation': {'rocauc': 0.8031644278418398}}\n",
            "EPOCH 28\n",
            "{'Train': {'rocauc': 0.9273985396828742}, 'Validation': {'rocauc': 0.8016477940450626}}\n",
            "EPOCH 29\n",
            "{'Train': {'rocauc': 0.9346833471732007}, 'Validation': {'rocauc': 0.8030793020415318}}\n",
            "EPOCH 30\n",
            "{'Train': {'rocauc': 0.9373670033321329}, 'Validation': {'rocauc': 0.8050124502617498}}\n",
            "EPOCH 31\n",
            "{'Train': {'rocauc': 0.9359804935444381}, 'Validation': {'rocauc': 0.8055075078202609}}\n",
            "EPOCH 32\n",
            "{'Train': {'rocauc': 0.93676306264337}, 'Validation': {'rocauc': 0.8048005358419029}}\n",
            "EPOCH 33\n",
            "{'Train': {'rocauc': 0.937206575436774}, 'Validation': {'rocauc': 0.8019340114628776}}\n",
            "EPOCH 34\n",
            "{'Train': {'rocauc': 0.9427615429306968}, 'Validation': {'rocauc': 0.8041603221960552}}\n",
            "EPOCH 35\n",
            "{'Train': {'rocauc': 0.9407321078126668}, 'Validation': {'rocauc': 0.8029949019318195}}\n",
            "EPOCH 36\n",
            "{'Train': {'rocauc': 0.9450364262931853}, 'Validation': {'rocauc': 0.8012038986824935}}\n",
            "EPOCH 37\n",
            "{'Train': {'rocauc': 0.946404229355048}, 'Validation': {'rocauc': 0.8061986523867053}}\n",
            "EPOCH 38\n",
            "{'Train': {'rocauc': 0.946520994330493}, 'Validation': {'rocauc': 0.80559924048065}}\n",
            "EPOCH 39\n",
            "{'Train': {'rocauc': 0.9468323216213871}, 'Validation': {'rocauc': 0.8055187481016377}}\n",
            "EPOCH 40\n",
            "{'Train': {'rocauc': 0.950224429888011}, 'Validation': {'rocauc': 0.8004377501483994}}\n",
            "EPOCH 41\n",
            "{'Train': {'rocauc': 0.9533433908361374}, 'Validation': {'rocauc': 0.8013615314460821}}\n",
            "EPOCH 42\n",
            "{'Train': {'rocauc': 0.9541596242876612}, 'Validation': {'rocauc': 0.8048338185751095}}\n",
            "EPOCH 43\n",
            "{'Train': {'rocauc': 0.9549160118370623}, 'Validation': {'rocauc': 0.7983319239807091}}\n",
            "EPOCH 44\n",
            "{'Train': {'rocauc': 0.9577320520378093}, 'Validation': {'rocauc': 0.8004218433468226}}\n",
            "EPOCH 45\n",
            "{'Train': {'rocauc': 0.9561069390036997}, 'Validation': {'rocauc': 0.8011291577667242}}\n",
            "EPOCH 46\n",
            "{'Train': {'rocauc': 0.9592127646077788}, 'Validation': {'rocauc': 0.7981952481953467}}\n",
            "EPOCH 47\n",
            "{'Train': {'rocauc': 0.9550703722011696}, 'Validation': {'rocauc': 0.800860914386572}}\n",
            "EPOCH 48\n",
            "{'Train': {'rocauc': 0.9596009094797481}, 'Validation': {'rocauc': 0.8021606078355691}}\n"
          ]
        }
      ],
      "source": [
        "device = torch.device(\"cuda\") if torch.cuda.is_available() else torch.device(\"cpu\")\n",
        "\n",
        "rocauc = []\n",
        "print(\"Start training...\")\n",
        "\n",
        "for epoch in range(1, 100):\n",
        "    print(\"EPOCH \" + str(epoch))\n",
        "\n",
        "    # Training\n",
        "    train(model, device, train_loader, optimizer)\n",
        "\n",
        "    # Evaluating\n",
        "    train_acc = eval(model, device, train_loader)\n",
        "    val_acc = eval(model, device, val_loader)\n",
        "    print({'Train': train_acc, 'Validation': val_acc})\n",
        "\n",
        "    rocauc.append(val_acc['rocauc'])\n",
        "\n",
        "    # Stop if rocauc does not improve\n",
        "    if stopper.early_stop(val_acc['rocauc']):\n",
        "      break"
      ]
    },
    {
      "cell_type": "code",
      "execution_count": null,
      "metadata": {
        "colab": {
          "base_uri": "https://localhost:8080/",
          "height": 430
        },
        "id": "8pIOnYcrYAoa",
        "outputId": "2b3c0671-8aba-4519-fbc3-af68c478ea5c"
      },
      "outputs": [
        {
          "data": {
            "image/png": "[encoded data removed]",
            "text/plain": [
              "<Figure size 640x480 with 1 Axes>"
            ]
          },
          "metadata": {},
          "output_type": "display_data"
        }
      ],
      "source": [
        "import matplotlib.pyplot as plt\n",
        "\n",
        "plt.plot(rocauc[:-11])    # Remove epochs past early stopping cutoff\n",
        "plt.axhline(y = 0.734, color = 'r', linestyle = '-')    # Baseline 3-layer GNN\n",
        "\n",
        "plt.show()"
      ]
    },
    {
      "cell_type": "markdown",
      "metadata": {
        "id": "JBZEBH1CqEDB"
      },
      "source": [
        "# Test Prediction"
      ]
    },
    {
      "cell_type": "code",
      "execution_count": null,
      "metadata": {
        "id": "p-2RLcalngtq"
      },
      "outputs": [],
      "source": [
        "test_pred = []\n",
        "\n",
        "for batch in test_loader:\n",
        "  batch = batch.to(device)\n",
        "  if batch.x.shape[0] == 1:\n",
        "    pass\n",
        "  else:\n",
        "    with torch.no_grad():\n",
        "      pred = model(batch)\n",
        "      test_pred.append(pred)\n",
        "\n",
        "test_pred = torch.cat(test_pred, dim = 0).numpy()"
      ]
    },
    {
      "cell_type": "code",
      "execution_count": null,
      "metadata": {
        "colab": {
          "base_uri": "https://localhost:8080/"
        },
        "id": "vOPppMNdqgT5",
        "outputId": "24829dad-724a-4193-d226-4079d7861b2e"
      },
      "outputs": [
        {
          "data": {
            "text/plain": [
              "array([[ 1.6292285 , -0.23493072, -3.0055606 , ..., -3.2048943 ,\n",
              "        -2.7196147 ,  1.0162468 ],\n",
              "       [ 0.1801331 , -0.85364926, -0.08474351, ...,  0.1902895 ,\n",
              "        -0.4636457 , -0.09180632],\n",
              "       [-2.1030312 , -3.895368  , -2.0756087 , ..., -2.1170232 ,\n",
              "        -1.0297955 , -1.514272  ],\n",
              "       ...,\n",
              "       [ 0.9162155 ,  0.34449747,  0.51312476, ..., -0.8439136 ,\n",
              "         1.140546  ,  0.9212615 ],\n",
              "       [-1.5137254 , -2.8657966 , -5.347151  , ..., -5.089063  ,\n",
              "        -6.1612144 , -4.820938  ],\n",
              "       [-1.7174512 , -2.667624  , -1.5598218 , ..., -2.8120942 ,\n",
              "        -2.170642  ,  0.4246536 ]], dtype=float32)"
            ]
          },
          "execution_count": 19,
          "metadata": {},
          "output_type": "execute_result"
        }
      ],
      "source": [
        "test_pred"
      ]
    },
    {
      "cell_type": "code",
      "execution_count": null,
      "metadata": {
        "id": "hjESiZO7pf1b"
      },
      "outputs": [],
      "source": [
        "pd.DataFrame(test_pred).to_csv('test_output.csv', index=False, header=False)"
      ]
    },
    {
      "cell_type": "markdown",
      "metadata": {
        "id": "8y62K6ldp_60"
      },
      "source": [
        "# Hyperparameter Optimization"
      ]
    },
    {
      "cell_type": "code",
      "execution_count": null,
      "metadata": {
        "id": "ss49BBHyshHO"
      },
      "outputs": [],
      "source": [
        "!pip install skorch"
      ]
    },
    {
      "cell_type": "markdown",
      "metadata": {
        "id": "SS_KMHZ3jlbJ"
      },
      "source": [
        "## Define Model Wrappers"
      ]
    },
    {
      "cell_type": "code",
      "execution_count": null,
      "metadata": {
        "id": "boDKJdtjjj4h"
      },
      "outputs": [],
      "source": [
        "from sklearn.base import BaseEstimator\n",
        "import warnings\n",
        "\n",
        "warnings.filterwarnings(\"ignore\")   # Suppress VisibleDeprecationWarning\n",
        "\n",
        "# Wrapper for GCN model\n",
        "class GCNWrapper(BaseEstimator):\n",
        "    def __init__(self, hidden_channels, num_node_features, num_classes, lr, batch_size, dropout):\n",
        "        self.hidden_channels = hidden_channels\n",
        "        self.num_node_features = num_node_features\n",
        "        self.num_classes = num_classes\n",
        "        self.lr = lr\n",
        "        self.batch_size = batch_size\n",
        "        self.dropout = dropout\n",
        "\n",
        "    def fit(self, X, y):\n",
        "        train_loader = X\n",
        "        val_loader = y\n",
        "\n",
        "        # Initialize the model\n",
        "        model = GCN(\n",
        "            hidden_channels=self.hidden_channels,\n",
        "            num_node_features=self.num_node_features,\n",
        "            num_classes=self.num_classes,\n",
        "            dropout = self.dropout\n",
        "        )\n",
        "\n",
        "        # Loss function and optimizer\n",
        "        optimizer = optim.Adam(model.parameters(), lr=self.lr, weight_decay=1e-5)\n",
        "        criterion = nn.BCEWithLogitsLoss(reduction = \"none\")\n",
        "        stopper = Early_Stopper(10)\n",
        "\n",
        "        # Training loop\n",
        "        for epoch in range(1, 100):\n",
        "            model.train()\n",
        "\n",
        "            for step, batch in enumerate(train_loader):\n",
        "                batch = batch.to(device)\n",
        "                pred = model(batch)\n",
        "                y_batch = batch.y.view(pred.shape).to(torch.float64)\n",
        "\n",
        "                optimizer.zero_grad()\n",
        "                is_labeled = batch.y == batch.y\n",
        "                loss = criterion(pred.to(torch.float32)[is_labeled], y_batch.to(torch.float32)[is_labeled]).mean()\n",
        "                loss.backward()\n",
        "                optimizer.step()\n",
        "            val_acc = eval(model, device, val_loader)\n",
        "            if stopper.early_stop(val_acc['rocauc']):\n",
        "              break\n",
        "        train_acc = eval(model, device, train_loader)\n",
        "        val_acc = eval(model, device, val_loader)\n",
        "        print({\"epochs\":epoch,'Lr':self.lr,'dropout':self.dropout,'Train': train_acc, 'Validation': val_acc})\n",
        "        return val_acc['rocauc']\n",
        "\n",
        "    def predict(self, X):\n",
        "        model.eval()\n",
        "        y_true = []\n",
        "        y_pred = []\n",
        "\n",
        "        # For every batch in test loader\n",
        "        for batch in X:\n",
        "          batch = batch.to(device)\n",
        "          if batch.x.shape[0] == 1:\n",
        "              pass\n",
        "          else:\n",
        "              with torch.no_grad():\n",
        "                  pred = model(batch)\n",
        "                  y_true.append(batch.y.view(pred.shape))\n",
        "                  y_pred.append(pred)\n",
        "\n",
        "        y_true = torch.cat(y_true, dim = 0).numpy()\n",
        "        y_pred = torch.cat(y_pred, dim = 0).numpy()\n",
        "\n",
        "        # Compute the ROC - AUC score and store as history\n",
        "        rocauc_list = []\n",
        "\n",
        "        for i in range(y_true.shape[1]):\n",
        "            #AUC is only defined when there is at least one positive data.\n",
        "            if np.sum(y_true[:,i] == 1) > 0 and np.sum(y_true[:,i] == 0) > 0:\n",
        "                # ignore nan values\n",
        "                is_labeled = y_true[:,i] == y_true[:,i]\n",
        "                rocauc_list.append(roc_auc_score(y_true[is_labeled,i], y_pred[is_labeled,i]))\n",
        "        return y_true, y_pred\n",
        "\n",
        "\n",
        "# Wrapper for GAT model\n",
        "class GATWrapper(BaseEstimator):\n",
        "    def __init__(self, hidden_channels, num_node_features, num_classes, lr, batch_size, num_heads, dropout, internal_dropout, embedding_size):\n",
        "        self.hidden_channels = hidden_channels\n",
        "        self.num_node_features = num_node_features\n",
        "        self.num_classes = num_classes\n",
        "        self.lr = lr\n",
        "        self.batch_size = batch_size\n",
        "        self.dropout = dropout\n",
        "        self.num_heads = num_heads\n",
        "        self.internal_dropout = internal_dropout\n",
        "        self.embedding_size = embedding_size\n",
        "\n",
        "    def fit(self, X, y):\n",
        "        train_loader = X\n",
        "        val_loader = y\n",
        "\n",
        "        # Initialize the model\n",
        "        model = GAT(\n",
        "            hidden_channels=self.hidden_channels,\n",
        "            num_node_features=self.num_node_features,\n",
        "            num_classes=self.num_classes,\n",
        "            heads = self.num_heads,\n",
        "            dropout = self.dropout,\n",
        "            internal_dropout = self.internal_dropout,\n",
        "            embedding_size = self.embedding_size\n",
        "        )\n",
        "\n",
        "        # Loss function and optimizer\n",
        "        optimizer = optim.Adam(model.parameters(), lr=self.lr, weight_decay=1e-5)\n",
        "        criterion = nn.BCEWithLogitsLoss(reduction = \"none\")\n",
        "        stopper = Early_Stopper(10)\n",
        "\n",
        "        # Training loop\n",
        "        for epoch in range(1, 100):\n",
        "            model.train()\n",
        "\n",
        "            for step, batch in enumerate(train_loader):\n",
        "                batch = batch.to(device)\n",
        "                pred = model(batch)\n",
        "                y_batch = batch.y.view(pred.shape).to(torch.float64)\n",
        "\n",
        "                optimizer.zero_grad()\n",
        "                is_labeled = batch.y == batch.y\n",
        "                loss = criterion(pred.to(torch.float32)[is_labeled], y_batch.to(torch.float32)[is_labeled]).mean()\n",
        "                loss.backward()\n",
        "                optimizer.step()\n",
        "            val_acc = eval(model, device, val_loader)\n",
        "            if stopper.early_stop(val_acc['rocauc']):\n",
        "              break\n",
        "        train_acc = eval(model, device, train_loader)\n",
        "        val_acc = eval(model, device, val_loader)\n",
        "        print({\"epochs\":epoch,'heads:':self.num_heads,'internal_dropout':self.internal_dropout,'embedding_size':self.embedding_size,'Train': train_acc, 'Validation': val_acc})\n",
        "        return val_acc['rocauc']\n",
        "\n",
        "    def predict(self, X):\n",
        "        model.eval()\n",
        "        y_true = []\n",
        "        y_pred = []\n",
        "\n",
        "        # For every batch in test loader\n",
        "        for batch in X:\n",
        "          batch = batch.to(device)\n",
        "          if batch.x.shape[0] == 1:\n",
        "              pass\n",
        "          else:\n",
        "              with torch.no_grad():\n",
        "                  pred = model(batch)\n",
        "                  y_true.append(batch.y.view(pred.shape))\n",
        "                  y_pred.append(pred)\n",
        "\n",
        "        y_true = torch.cat(y_true, dim = 0).numpy()\n",
        "        y_pred = torch.cat(y_pred, dim = 0).numpy()\n",
        "\n",
        "        # Compute the ROC - AUC score and store as history\n",
        "        rocauc_list = []\n",
        "\n",
        "        for i in range(y_true.shape[1]):\n",
        "            #AUC is only defined when there is at least one positive data.\n",
        "            if np.sum(y_true[:,i] == 1) > 0 and np.sum(y_true[:,i] == 0) > 0:\n",
        "                # ignore nan values\n",
        "                is_labeled = y_true[:,i] == y_true[:,i]\n",
        "                rocauc_list.append(roc_auc_score(y_true[is_labeled,i], y_pred[is_labeled,i]))\n",
        "        return y_true, y_pred"
      ]
    },
    {
      "cell_type": "markdown",
      "metadata": {
        "id": "dod-FPA_jpcn"
      },
      "source": [
        "## Perform Grid Search"
      ]
    },
    {
      "cell_type": "code",
      "execution_count": null,
      "metadata": {
        "colab": {
          "base_uri": "https://localhost:8080/"
        },
        "id": "OlHQBPl4qG8b",
        "outputId": "bf8c018e-8d0c-4e8f-e8f9-59db9557fdc9"
      },
      "outputs": [
        {
          "name": "stdout",
          "output_type": "stream",
          "text": [
            "{'epochs': 56, 'heads:': 5, 'internal_dropout': (0.2, 0.2, 0.2), 'embedding_size': 100, 'Train': {'rocauc': 0.9243208063603591}, 'Validation': {'rocauc': 0.7887518542900147}}\n",
            "{'epochs': 77, 'heads:': 5, 'internal_dropout': (0.2, 0.2, 0.2), 'embedding_size': 150, 'Train': {'rocauc': 0.9363512851078784}, 'Validation': {'rocauc': 0.7887786369852022}}\n",
            "{'epochs': 73, 'heads:': 5, 'internal_dropout': (0.2, 0.2, 0.2), 'embedding_size': 200, 'Train': {'rocauc': 0.9357029156628479}, 'Validation': {'rocauc': 0.7887222301527496}}\n",
            "{'epochs': 56, 'heads:': 5, 'internal_dropout': (0.3, 0.3, 0.3), 'embedding_size': 100, 'Train': {'rocauc': 0.9243250717171051}, 'Validation': {'rocauc': 0.7879118460718985}}\n"
          ]
        }
      ],
      "source": [
        "from itertools import product\n",
        "from sklearn.metrics import roc_auc_score\n",
        "\n",
        "def score(y_true, y_pred):\n",
        "  rocauc_list = []\n",
        "  for i in range(y_true.shape[1]):\n",
        "            #AUC is only defined when there is at least one positive data.\n",
        "            if np.sum(y_true[:,i] == 1) > 0 and np.sum(y_true[:,i] == 0) > 0:\n",
        "                # ignore nan values\n",
        "                is_labeled = y_true[:,i] == y_true[:,i]\n",
        "                rocauc_list.append(roc_auc_score(y_true[is_labeled,i], y_pred[is_labeled,i]))\n",
        "  return sum(rocauc_list)/len(rocauc_list)\n",
        "\n",
        "# Define the hyperparameter grid\n",
        "param_grid = {\n",
        "    'hidden_channels': [128],  # [16, 32, 64]\n",
        "    'num_node_features': [9],\n",
        "    'num_classes': [12],\n",
        "    'lr': [0.0001],\n",
        "    'batch_size': [64],\n",
        "    'num_heads' : [5, 6],\n",
        "    'dropout': [0.3],\n",
        "    'internal_dropout': [(0.2,0.2,0.2),(0.3,0.3,0.3)],\n",
        "    'embedding_size': [100,150,200]\n",
        "    }\n",
        "\n",
        "# Convert the param_grid into a list of dictionaries\n",
        "param_combinations = [dict(zip(param_grid, v)) for v in product(*param_grid.values())]\n",
        "\n",
        "best_score = float('-inf')\n",
        "best_params = None\n",
        "\n",
        "for params in param_combinations:\n",
        "    # Instantiate the model with specific hyperparameters\n",
        "    model_gs = GATWrapper(**params)\n",
        "\n",
        "    # Train and evaluate the model\n",
        "    rocauc = model_gs.fit(X=train_loader,y=val_loader)\n",
        "\n",
        "    # Update best parameters if the current combination is better\n",
        "    if rocauc > best_score:\n",
        "        best_score = rocauc\n",
        "        best_params = params\n",
        "\n",
        "# Print the best parameters and score\n",
        "print(\"Best parameters found: \", best_params)\n",
        "print(\"Best ROC-AUC score: \", best_score)\n"
      ]
    }
  ],
  "metadata": {
    "colab": {
      "provenance": []
    },
    "kernelspec": {
      "display_name": "Python 3",
      "name": "python3"
    },
    "language_info": {
      "codemirror_mode": {
        "name": "ipython",
        "version": 3
      },
      "file_extension": ".py",
      "mimetype": "text/x-python",
      "name": "python",
      "nbconvert_exporter": "python",
      "pygments_lexer": "ipython3",
      "version": "3.7.13"
    }
  },
  "nbformat": 4,
  "nbformat_minor": 0
}
